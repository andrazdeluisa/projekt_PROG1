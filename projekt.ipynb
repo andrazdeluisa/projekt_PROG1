{
 "cells": [
  {
   "cell_type": "markdown",
   "metadata": {},
   "source": [
    "### NBA Fantasy\n",
    "\n",
    "Opravili bomo analizo NBA sezone 2016/2017 z vidika NBA Fantasy točkovanja ter primerjal \"natančnost\" najpopularnejše metode točkovanja igralcev glede na dejansko uspešnost ekip v rednem delu sezone.\n"
   ]
  },
  {
   "cell_type": "markdown",
   "metadata": {},
   "source": [
    "Najprej naložimo vse .csv datoteke s podatki in si oglejmo, kateri podatki so nam na voljo za vsakega igralca:"
   ]
  },
  {
   "cell_type": "code",
   "execution_count": null,
   "metadata": {
    "scrolled": true
   },
   "outputs": [],
   "source": [
    "import pandas as pd\n",
    "import matplotlib as mplot\n",
    "\n",
    "%matplotlib inline\n",
    "pd.options.display.max_rows = 20\n",
    "pd.set_option('precision', 2)\n",
    "statistike = pd.read_csv('stats.csv', index_col = 'Index')\n",
    "ekipe = pd.read_csv('team_stats.csv')\n",
    "dvojni_dvojcki = pd.read_csv('dd.csv')\n",
    "boljse_statistike = pd.merge(statistike, dvojni_dvojcki, how = 'outer')\n",
    "boljse_statistike\n"
   ]
  },
  {
   "cell_type": "markdown",
   "metadata": {},
   "source": [
    "Tabelo igralcev sedaj združimo s statistiko zmag in porazov vsake ekipe:"
   ]
  },
  {
   "cell_type": "code",
   "execution_count": null,
   "metadata": {
    "scrolled": true
   },
   "outputs": [],
   "source": [
    "igralci = pd.merge(boljse_statistike, ekipe, left_on = 'Team', right_on = 'Team', how = 'left')\n",
    "igralci"
   ]
  },
  {
   "cell_type": "markdown",
   "metadata": {},
   "source": [
    "Takoj lahko opazimo, da imajo nekateri igralci prazno statistiko zmag in porazov. Po natančnejšem pregledu podatkov lahko ugotovimo, kaj imajo vsi ti igralci skupnega: igrajo v ekipi \"TOT\"."
   ]
  },
  {
   "cell_type": "code",
   "execution_count": null,
   "metadata": {
    "scrolled": true
   },
   "outputs": [],
   "source": [
    "igralci[igralci.Team == 'TOT']"
   ]
  },
  {
   "cell_type": "markdown",
   "metadata": {},
   "source": [
    "\"TOT\" seveda ni ekipa, predstavlja skupno statistiko celotne sezone igralcev, ki so bili med letom zamenjani v drugo ekipo. Takih igralcev je skupno 53, kar ni ravno zanemarljivo (glede na skupno št. igralcev: 485), a jih v analizi uspeha ekip ne bomo mogli upoštevati, saj nimamo podatka o tem, v katerih ekipah so igrali ter koliko tekem v vsaki. Pri analizah individualnih statistik pa jih bomo seveda upoštevali."
   ]
  },
  {
   "cell_type": "markdown",
   "metadata": {},
   "source": [
    "Kot lahko razberemo iz zgornje razpredelnice, je statističnih kategorij, ki so v košarki relevantne, precej. Pri analizi dejanskega učinka igralcev na igrišču se zato ponavadi uporablja indeks PER, ki pa sam po sebi ni dovolj natančen, saj ga je treba vedno interpretirati v povezavi z odigranim časom posameznega igralca, sama formula pa je preveč zapletena in zato neprivlačna za manj strokovno podkovane košarkarske navdušence. Pri NBA Fantasy igrah na različnih spletnih straneh, pri katerih se med seboj pomerja milijone uporabnikov, je zato najpopularnejši način vrednotenja igralcev po vsaki tekmi spodnja formula, ki upošteva mosnovne statistične kategorije in jih različno obteži glede na dejansko \"korist\" posamezne statistike na igrišču, tako je na primer dosežena točka enako vredna kot zgrešen met, blokada pa pol točke več kot obrambni skok. Dodatne bonuse predstavljajo t. i. \"dvojni\" oz. \"trojni dvojčki\" (\"Double double\" in \"Triple double\" v angleščini - kadar igralec v različnih \"pozitivnih\" statistikah doseže dvomestno številko) ter zmaga ali poraz ekipe na posamezni tekmi.\n",
    "\n",
    "Definirajmo torej formulo in izračunajmo povprečno ter skupno vrednost za vsakega igralca:"
   ]
  },
  {
   "cell_type": "code",
   "execution_count": null,
   "metadata": {},
   "outputs": [],
   "source": [
    "def fantasy_total(row):\n",
    "    bonus = 5 * (row.DD + row.TD) + row.GS\n",
    "    if not pd.isnull(row.Wins):\n",
    "        team_bonus = 3 * (row.Wins - row.Losses) * row.GP / 82\n",
    "    else:\n",
    "        team_bonus = 0\n",
    "    return row.GP * (row.PTS + row.DREB + (row.FG - row.FGA) + (row.FT - row.FTA) + 1.25 * row.OREB + 1.5 * (row.AST + row.STL + row.BLK - row.TO)) + bonus + team_bonus"
   ]
  },
  {
   "cell_type": "code",
   "execution_count": null,
   "metadata": {},
   "outputs": [],
   "source": [
    "igralci['FANTASY_TOT'] = igralci.apply (lambda row: fantasy_total(row), axis=1)\n",
    "igralci['FANTASY_AVG'] = igralci.apply (lambda row: fantasy_total(row)/row.GP, axis=1)\n",
    "igralci"
   ]
  },
  {
   "cell_type": "markdown",
   "metadata": {},
   "source": [
    "Za malo bolj smiseln pogled uredimo tabelo po povprečni vrednosti fantasy točkovanja:"
   ]
  },
  {
   "cell_type": "code",
   "execution_count": null,
   "metadata": {
    "scrolled": false
   },
   "outputs": [],
   "source": [
    "igralci = igralci.sort_values(by = \"FANTASY_AVG\", ascending = False)\n",
    "igralci"
   ]
  },
  {
   "cell_type": "markdown",
   "metadata": {},
   "source": [
    "Poleg kar velikih razlik v povprečjih v samem vrhu, takoj opazimo, da ima nekaj igralcev negativno povprečje. Poudariti je treba, da to NI NAPAKA, saj ocenjevalna formula predvideva tudi negativne statistične kategorije: Tako ni sploh redko, da igralec ob slabi tekmi in, denimo, celo porazu svoje ekipe, doseže krepko negativno fantasy točkovanje."
   ]
  },
  {
   "cell_type": "code",
   "execution_count": null,
   "metadata": {},
   "outputs": [],
   "source": [
    "igralci.plot.scatter('FANTASY_AVG', 'FANTASY_TOT')"
   ]
  },
  {
   "cell_type": "markdown",
   "metadata": {},
   "source": [
    "Z zgornjim grafom lahko na hitro (vendar natančno) preverimo, če je kakšno izrazito odstopanje od linearne odvisnosti skupne in povprečne vrednosti fantasy točkovanja, ki bi bila odvisna od npr. zelo majhnega števila odigranih tekem kakšnega igralca zaradi poškodbe. Nekaj takih primerov lahko opazimo, iz česar lahko sklepamo, da je nekaj igralcev (tudi boljših) moralo izpustiti večje število tekem, a je vzorec odigranih tekem še vedno dovolj velik, da jih lahko upoštevamo pri analizi."
   ]
  },
  {
   "cell_type": "markdown",
   "metadata": {},
   "source": [
    "V košarki so ponavadi zanimive (in hkrati nehvaležne) primerjave statistik igralcev, ki igrajo na različnih pozicijah:"
   ]
  },
  {
   "cell_type": "code",
   "execution_count": 27,
   "metadata": {
    "scrolled": true
   },
   "outputs": [
    {
     "data": {
      "text/plain": [
       "<matplotlib.axes._subplots.AxesSubplot at 0x7fcf457af780>"
      ]
     },
     "execution_count": 27,
     "metadata": {},
     "output_type": "execute_result"
    },
    {
     "data": {
      "image/png": "[encoded data removed]",
      "text/plain": [
       "<Figure size 432x288 with 1 Axes>"
      ]
     },
     "metadata": {},
     "output_type": "display_data"
    }
   ],
   "source": [
    "igralci.groupby('Position').mean().FANTASY_AVG.plot.bar()"
   ]
  },
  {
   "cell_type": "markdown",
   "metadata": {},
   "source": [
    "Pred samo analizo dobljenega rezultata se spomnimo še same definicije pozicij:\n",
    "    \n",
    "C  - center\n",
    "\n",
    "PF - krilni center\n",
    "\n",
    "SF - krilo\n",
    "\n",
    "SG - branilec\n",
    "\n",
    "PG - organizator igre\n",
    "\n",
    "Iz samega grafa lahko sicer opazimo nekaj razlik med pozicijami, ki pa niso pretirane. V bistvu bi lahko iz grafa sklepali, da tako točkovanje rahlo privilegira centre in organizatorje igre, saj imajo ti več možnosti, da dosežejo \"dvojni dvojček\"; prvi s skoki, drugi pa z asistencami. Vsekakor pa kar dobro uteži različne statistike. "
   ]
  },
  {
   "cell_type": "markdown",
   "metadata": {},
   "source": [
    "Po opravljeni osnovni analizi uspešnosti igralcev nam ostane še zanimivejši del: še tako dobra statistika igralca je popolnoma nekoristna, če ekipa na koncu zabeleži poraz. Skušali bomo torej preveriti, če je fantasy točkovanje merodajno tudi pri uspešnosti posameznih ekip."
   ]
  },
  {
   "cell_type": "code",
   "execution_count": null,
   "metadata": {},
   "outputs": [],
   "source": [
    "fantasy_povprecje = igralci.groupby('Team').mean().FANTASY_TOT\n",
    "fantasy_lestvica = fantasy_povprecje.sort_values(ascending = False)\n",
    "fantasy_lestvica = pd.Series.to_frame(fantasy_lestvica)\n",
    "fantasy_lestvica"
   ]
  },
  {
   "cell_type": "code",
   "execution_count": null,
   "metadata": {
    "scrolled": true
   },
   "outputs": [],
   "source": [
    "lestvica = ekipe.sort_values('Losses')\n",
    "lestvica['Position'] = ekipe.index + 1\n",
    "lestvica = lestvica[['Position', 'Team', 'Wins']]\n",
    "lestvica['Index'] = lestvica['Position']\n",
    "lestvica.set_index('Index', inplace=True)\n",
    "lestvica"
   ]
  },
  {
   "cell_type": "code",
   "execution_count": null,
   "metadata": {},
   "outputs": [],
   "source": [
    "skupna_lestvica = pd.merge(lestvica, fantasy_lestvica, left_on = 'Team', right_on = 'Team')\n",
    "skupna_lestvica\n"
   ]
  },
  {
   "cell_type": "code",
   "execution_count": null,
   "metadata": {},
   "outputs": [],
   "source": [
    "pregled = igralci[['Name', 'Position', 'Team', 'MIN', 'FANTASY_AVG']]\n",
    "pregled"
   ]
  },
  {
   "cell_type": "code",
   "execution_count": null,
   "metadata": {},
   "outputs": [],
   "source": [
    "graf1 = lestvica.plot.scatter('Position', 'Wins')\n",
    "graf1"
   ]
  },
  {
   "cell_type": "code",
   "execution_count": null,
   "metadata": {},
   "outputs": [],
   "source": [
    "graf2 = skupna_lestvica.plot.scatter( 'Wins', 'FANTASY_TOT')"
   ]
  },
  {
   "cell_type": "code",
   "execution_count": null,
   "metadata": {},
   "outputs": [],
   "source": []
  },
  {
   "cell_type": "code",
   "execution_count": null,
   "metadata": {},
   "outputs": [],
   "source": []
  },
  {
   "cell_type": "code",
   "execution_count": null,
   "metadata": {},
   "outputs": [],
   "source": []
  },
  {
   "cell_type": "code",
   "execution_count": null,
   "metadata": {},
   "outputs": [],
   "source": []
  }
 ],
 "metadata": {
  "kernelspec": {
   "display_name": "Python 3",
   "language": "python",
   "name": "python3"
  },
  "language_info": {
   "codemirror_mode": {
    "name": "ipython",
    "version": 3
   },
   "file_extension": ".py",
   "mimetype": "text/x-python",
   "name": "python",
   "nbconvert_exporter": "python",
   "pygments_lexer": "ipython3",
   "version": "3.6.5"
  }
 },
 "nbformat": 4,
 "nbformat_minor": 2
}
